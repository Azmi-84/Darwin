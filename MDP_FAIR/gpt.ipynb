{
 "cells": [
  {
   "cell_type": "markdown",
   "metadata": {},
   "source": [
    "## Data Processing"
   ]
  },
  {
   "cell_type": "code",
   "execution_count": 24,
   "metadata": {},
   "outputs": [],
   "source": [
    "# first data processing method, with a lot of nans\n",
    "def extract_schema():\n",
    "    with open(\"finetune_all.csv\", \"w\", encoding=\"utf-8\", newline='') as file:\n",
    "        writer = csv.writer(file)\n",
    "        header = ['prompt', 'completion']\n",
    "        writer.writerow(header)\n",
    "\n",
    "    with open(r\"store_gpt.json\", \"r\", encoding=\"utf-8\") as f:\n",
    "        for dict_item in json.load(f):\n",
    "            prompt = f\"Design a perovskite solar cell with {dict_item['JV_default_PCE']} power conversion efficiency under AM1.5 and 100 light intensity.\"\n",
    "            completion = \"Substrate stack sequence: \" + dict_item[\"Substrate_stack_sequence\"] + \\\n",
    "                         \", ETL stack sequence: \" + dict_item[\"ETL_stack_sequence\"] + \\\n",
    "                         \", ETL additives compounds: \" + dict_item[\"ETL_additives_compounds\"] + \\\n",
    "                         \", ETL_thickness: nan\" \\\n",
    "                         \", ETL deposition procedure: \" + dict_item[\"ETL_deposition_procedure\"] + \\\n",
    "                         \", Perovskite_dimension_list_of_layers: nan\" \\\n",
    "                         \", Perovskite_composition_a_ions: nan\" \\\n",
    "                         \", Perovskite_composition_a_ions_coefficients: nan\" \\\n",
    "                         \", Perovskite_composition_b_ions: nan\" \\\n",
    "                         \", Perovskite_composition_b_ions_coefficients: nan\" \\\n",
    "                         \", Perovskite_composition_c_ions: nan\" \\\n",
    "                         \", Perovskite_composition_c_ions_coefficientsv: nan\" \\\n",
    "                         \", Perovskite additives compounds: \" + dict_item[\"Perovskite_additives_compounds\"] + \\\n",
    "                         \", Perovskite additives concentrations: \" + dict_item[\"Perovskite_additives_concentrations\"] + \\\n",
    "                         \", Perovskite band gap: \" + dict_item[\"Perovskite_band_gap\"] + \\\n",
    "                         \", Perovskite deposition solvents: \" + dict_item[\"Perovskite_deposition_solvents\"] + \\\n",
    "                         \", Perovskite deposition procedure: \" + dict_item[\"Perovskite_deposition_procedure\"] + \\\n",
    "                         \", Perovskite deposition thermal annealing temperature: \" \\\n",
    "                         + dict_item[\"Perovskite_deposition_thermal_annealing_temperature\"] + \\\n",
    "                         \", Perovskite deposition thermal annealing time: \" \\\n",
    "                         + dict_item[\"Perovskite_deposition_thermal_annealing_time\"] + \\\n",
    "                         \", HTL stack sequence: \" + dict_item[\"HTL_stack_sequence\"] + \\\n",
    "                         \", HTL_thickness_list: nan\" \\\n",
    "                         \", HTL additives compounds: \" + dict_item[\"HTL_additives_compounds\"] + \\\n",
    "                         \", HTL deposition procedure: \" + dict_item[\"HTL_deposition_procedure\"] + \\\n",
    "                         \", Backcontact stack sequence: \" + dict_item[\"Backcontact_stack_sequence\"] + \\\n",
    "                         \", Backcontact additives compounds: \" + dict_item[\"Backcontact_additives_compounds\"] + \\\n",
    "                         \", Backcontact deposition procedure: \" + dict_item[\"Backcontact_deposition_procedure\"] + \\\n",
    "                         \", Backcontact_thickness_list: nan\" \\\n",
    "                         \", Cell architecture: \" + dict_item[\"Cell_architecture\"] + \\\n",
    "                         \", Cell semitransparent: \" + dict_item[\"Cell_semitransparent\"]\n",
    "\n",
    "            line = [prompt, completion]\n",
    "            with open(\"finetune_all.csv\", \"a\", encoding=\"utf-8\", newline='') as csvFile:\n",
    "                writer = csv.writer(csvFile)\n",
    "                writer.writerow(line)"
   ]
  },
  {
   "cell_type": "code",
   "execution_count": 132,
   "metadata": {},
   "outputs": [],
   "source": [
    "# second data processing method, without nans\n",
    "def extract_schema():\n",
    "    with open(\"finetune_all2.csv\", \"w\", encoding=\"utf-8\", newline='') as file:\n",
    "        writer = csv.writer(file)\n",
    "        header = ['prompt', 'completion']\n",
    "        writer.writerow(header)\n",
    "\n",
    "    with open(r\"store_gpt.json\", \"r\", encoding=\"utf-8\") as f:\n",
    "        for dict_item in json.load(f):\n",
    "            try:\n",
    "                prompt = f\"Design a perovskite solar cell with {str(float(dict_item['JV_default_PCE'])*1000)} power conversion efficiency under AM1.5 and 100 light intensity.\"\n",
    "                completion = \"Substrate stack sequence: \" + dict_item[\"Substrate_stack_sequence\"] + \\\n",
    "                             \", ETL stack sequence: \" + dict_item[\"ETL_stack_sequence\"] + \\\n",
    "                             \", ETL additives compounds: \" + dict_item[\"ETL_additives_compounds\"] + \\\n",
    "                             \", ETL deposition procedure: \" + dict_item[\"ETL_deposition_procedure\"] + \\\n",
    "                             \", Perovskite_dimension_list_of_layers: nan\" \\\n",
    "                             \", Perovskite composition long form: \" + dict_item[\"Perovskite_composition_long_form\"] + \\\n",
    "                             \", Perovskite composition short form: \" + dict_item[\"Perovskite_composition_short_form\"] + \\\n",
    "                             \", Perovskite additives compounds: \" + dict_item[\"Perovskite_additives_compounds\"] + \\\n",
    "                             \", Perovskite additives concentrations: \" + dict_item[\"Perovskite_additives_concentrations\"] + \\\n",
    "                             \", Perovskite band gap: \" + dict_item[\"Perovskite_band_gap\"] + \\\n",
    "                             \", Perovskite deposition solvents: \" + dict_item[\"Perovskite_deposition_solvents\"] + \\\n",
    "                             \", Perovskite deposition procedure: \" + dict_item[\"Perovskite_deposition_procedure\"] + \\\n",
    "                             \", Perovskite deposition thermal annealing temperature: \" \\\n",
    "                             + dict_item[\"Perovskite_deposition_thermal_annealing_temperature\"] + \\\n",
    "                             \", Perovskite deposition thermal annealing time: \" \\\n",
    "                             + dict_item[\"Perovskite_deposition_thermal_annealing_time\"] + \\\n",
    "                             \", Perovskite deposition solvents mixing ratios: \" \\\n",
    "                            + dict_item[\"Perovskite_deposition_solvents_mixing_ratios\"] + \\\n",
    "                            \", Perovskite deposition synthesis atmosphere: \" \\\n",
    "                            + dict_item[\"Perovskite_deposition_synthesis_atmosphere\"] + \\\n",
    "                            \", Perovskite deposition aggregation state of reactants: \" \\\n",
    "                            + dict_item[\"Perovskite_deposition_aggregation_state_of_reactants\"] + \\\n",
    "                            \", HTL stack sequence: \" + dict_item[\"HTL_stack_sequence\"] + \\\n",
    "                             \", HTL additives compounds: \" + dict_item[\"HTL_additives_compounds\"] + \\\n",
    "                             \", HTL deposition procedure: \" + dict_item[\"HTL_deposition_procedure\"] + \\\n",
    "                             \", Backcontact stack sequence: \" + dict_item[\"Backcontact_stack_sequence\"] + \\\n",
    "                             \", Backcontact additives compounds: \" + dict_item[\"Backcontact_additives_compounds\"] + \\\n",
    "                             \", Backcontact deposition procedure: \" + dict_item[\"Backcontact_deposition_procedure\"] + \\\n",
    "                             \", Cell architecture: \" + dict_item[\"Cell_architecture\"] + \\\n",
    "                             \", Cell semitransparent: \" + dict_item[\"Cell_semitransparent\"]\n",
    "\n",
    "                line = [prompt, completion]\n",
    "                with open(\"finetune_all2.csv\", \"a\", encoding=\"utf-8\", newline='') as csvFile:\n",
    "                    writer = csv.writer(csvFile)\n",
    "                    writer.writerow(line)\n",
    "            except:\n",
    "                continue"
   ]
  },
  {
   "cell_type": "code",
   "execution_count": 25,
   "metadata": {},
   "outputs": [],
   "source": [
    "extract_schema()"
   ]
  },
  {
   "cell_type": "markdown",
   "metadata": {},
   "source": [
    "## Data Selection\n",
    "select about 1000 samples for training"
   ]
  },
  {
   "cell_type": "code",
   "execution_count": 56,
   "metadata": {},
   "outputs": [
    {
     "name": "stdout",
     "output_type": "stream",
     "text": [
      "27259\n"
     ]
    }
   ],
   "source": [
    "# slection 1, for data with nans, only keeps samples with less than 14 nans, about 1000 samples will be kept\n",
    "import csv\n",
    "i = 0\n",
    "with open(\"finetune_all_test_1000.csv\", \"w\", encoding=\"utf-8\", newline='') as file:\n",
    "    writer = csv.writer(file)\n",
    "    header = ['prompt', 'completion']\n",
    "    writer.writerow(header)\n",
    "    \n",
    "with open('finetune_all.csv', newline='', encoding='utf-8') as csvfile:\n",
    "    reader = csv.reader(csvfile, delimiter=',', quotechar='|')\n",
    "    next(reader, None)\n",
    "    for row in reader:\n",
    "        prompt = row[0]\n",
    "        completion = f\"{', '.join(row[1:])[1:-1]}\\n\"\n",
    "        completion = completion.replace(\": ,\", \": nan,\").replace(\"Unknown\", \"nan\")\n",
    "        if completion.count(\"nan\") >= 14:\n",
    "            continue\n",
    "        else:\n",
    "            i += 1\n",
    "            line = [prompt, completion]\n",
    "            with open(\"finetune_all_test_1000.csv\", \"a\", encoding=\"utf-8\", newline='') as csvFile:\n",
    "                writer = csv.writer(csvFile)\n",
    "                writer.writerow(line)\n",
    "print(i)"
   ]
  },
  {
   "cell_type": "code",
   "execution_count": 134,
   "metadata": {},
   "outputs": [
    {
     "name": "stdout",
     "output_type": "stream",
     "text": [
      ", 5]thiadiazole]-2, 6, 10-yl]-4, 4, 8, 8, 12, 12-hexamethyl-4H, 8H, 1\n",
      "\n",
      "]quinolizino [3, 4, 5, 6, 7, -defg]acridine ),  HTL additives compounds: nan,  HTL deposition procedure: Spin-coating,  Backcontact stack sequence: Au,  Backcontact additives compounds: nan,  Backcontact deposition procedure: Evaporation,  Cell architecture: nip,  Cell semitransparent: FALSE\n",
      "\n",
      ", 5]thiadiazole]-2, 6, 10-yl]-4, 4, 8, 8, 12, 12-hexamethyl-4H, 8H, 1\n",
      "\n",
      "]quinolizino [3, 4, 5, 6, 7, -defg]acridine ),  HTL additives compounds: nan,  HTL deposition procedure: Spin-coating,  Backcontact stack sequence: Au,  Backcontact additives compounds: nan,  Backcontact deposition procedure: Evaporation,  Cell architecture: nip,  Cell semitransparent: FALSE\n",
      "\n",
      "Substrate stack sequence: SLG | ITO,  ETL stack sequence: PCBM-60 | PFN-P2,  ETL additives compounds: nan,  ETL deposition procedure: Spin-coating | Spin-coating,  Perovskite_dimension_list_of_layers: nan,  Perovskite composition long form: MAPbI3,  Perovskite composition short form: MAPbI,  Perovskite additives compounds: MACl; poly[9, 9-bis(3′-(N, N-dimethylamino)\n",
      "\n",
      "1606\n"
     ]
    }
   ],
   "source": [
    "# selection 2, for data without nans, select by both #nans & Perovskite band gap. \n",
    "# we want data with less nans and have value for Perovskite band gap\n",
    "import csv\n",
    "i = 0\n",
    "with open(\"finetune_all2_1000.csv\", \"w\", encoding=\"utf-8\", newline='') as file:\n",
    "    writer = csv.writer(file)\n",
    "    header = ['prompt', 'completion']\n",
    "    writer.writerow(header)\n",
    "\n",
    "li = []\n",
    "with open('finetune_all2.csv', newline='', encoding='utf-8') as csvfile:\n",
    "    reader = csv.reader(csvfile, delimiter=',', quotechar='|')\n",
    "    next(reader, None)\n",
    "    for row in reader:\n",
    "        prompt = row[0]\n",
    "        completion = f\"{', '.join(row[1:])[1:-1]}\\n\"\n",
    "        completion = completion.replace(\": ,\", \": nan,\").replace(\"Unknown\", \"nan\")\n",
    "        match = re.search(r'Perovskite band gap: (.*?),', completion)\n",
    "        try:\n",
    "            if completion.count(\"nan\") >= 4 or match.group(1)=='nan' :\n",
    "                continue\n",
    "            else:\n",
    "                li.append(match.group(1))\n",
    "                i += 1\n",
    "                line = [prompt, completion]\n",
    "                with open(\"finetune_all2_1000.csv\", \"a\", encoding=\"utf-8\", newline='') as csvFile:\n",
    "                    writer = csv.writer(csvFile)\n",
    "                    writer.writerow(line)\n",
    "        except:\n",
    "            print(completion)\n",
    "print(i)"
   ]
  },
  {
   "cell_type": "markdown",
   "metadata": {},
   "source": [
    "## Models"
   ]
  },
  {
   "cell_type": "code",
   "execution_count": 63,
   "metadata": {
    "collapsed": true
   },
   "outputs": [
    {
     "name": "stdout",
     "output_type": "stream",
     "text": [
      "No.0\n",
      "{\n",
      "  \"choices\": [\n",
      "    {\n",
      "      \"finish_reason\": \"stop\",\n",
      "      \"index\": 0,\n",
      "      \"logprobs\": null,\n",
      "      \"text\": \" Substrate stack sequence: SLG | FTO,  ETL stack sequence: TiO2-c | TiO2-mp,  ETL additives compounds: TiCl4,  ETL_thickness: nan,  ETL deposition procedure: Spin-coating | Spin-coating >> Hydrothermal,  Perovskite_dimension_list_of_layers: nan,  Perovskite_composition_a_ions: nan,  Perovskite_composition_a_ions_coefficients: nan,  Perovskite_composition_b_ions: nan,  Perovskite_composition_b_ions_coefficients: nan,  Perovskite_composition_c_ions: nan,  Perovskite_composition_c_ions_coefficientsv: nan,  Perovskite additives compounds: Undoped,  Perovskite_additives_concentrations: nan,  Perovskite_band_gap: nan,  Perovskite deposition solvents: DMF; DMSO,  Perovskite deposition procedure: Spin-coating,  Perovskite deposition thermal annealing temperature: 100,  Perovskite deposition thermal annealing time: 60,  HTL stack sequence: Spiro-MeOTAD,  HTL_thickness_list: nan,  HTL additives compounds: Li-TFSI; TBP,  HTL deposition procedure: Spin-coating,  Backcontact stack sequence: Au,  Backcontact additives compounds: Undoped,  Backcontact deposition procedure: Evaporation,  Backcontact_thickness_list: nan,  Cell architecture: nip,  Cell semitransparent: FALSE\"\n",
      "    }\n",
      "  ],\n",
      "  \"created\": 1680333397,\n",
      "  \"id\": \"cmpl-70PlVUHKK6KFDk7uQQD7hBlWw0QlL\",\n",
      "  \"model\": \"davinci:ft-greendynamics:custom-model-name-2023-04-01-06-53-54\",\n",
      "  \"object\": \"text_completion\",\n",
      "  \"usage\": {\n",
      "    \"completion_tokens\": 386,\n",
      "    \"prompt_tokens\": 26,\n",
      "    \"total_tokens\": 412\n",
      "  }\n",
      "}\n",
      "No.1\n",
      "{\n",
      "  \"choices\": [\n",
      "    {\n",
      "      \"finish_reason\": \"stop\",\n",
      "      \"index\": 0,\n",
      "      \"logprobs\": null,\n",
      "      \"text\": \" Substrate stack sequence: SLG | FTO,  ETL stack sequence: TiO2-c | TiO2-mp,  ETL additives compounds: TiCl4,  ETL_thickness: nan,  ETL deposition procedure: Spin-coating | Spin-coating >> Hydrothermal,  Perovskite_dimension_list_of_layers: nan,  Perovskite_composition_a_ions: nan,  Perovskite_composition_a_ions_coefficients: nan,  Perovskite_composition_b_ions: nan,  Perovskite_composition_b_ions_coefficients: nan,  Perovskite_composition_c_ions: nan,  Perovskite_composition_c_ions_coefficientsv: nan,  Perovskite additives compounds: Undoped,  Perovskite_additives_concentrations: nan,  Perovskite_band_gap: nan,  Perovskite deposition solvents: DMF; DMSO,  Perovskite deposition procedure: Spin-coating,  Perovskite deposition thermal annealing temperature: 100,  Perovskite deposition thermal annealing time: 60,  HTL stack sequence: Spiro-MeOTAD,  HTL_thickness_list: nan,  HTL additives compounds: Li-TFSI; TBP,  HTL deposition procedure: Spin-coating,  Backcontact stack sequence: Au,  Backcontact additives compounds: Undoped,  Backcontact deposition procedure: Evaporation,  Backcontact_thickness_list: nan,  Cell architecture: nip,  Cell semitransparent: FALSE\"\n",
      "    }\n",
      "  ],\n",
      "  \"created\": 1680333408,\n",
      "  \"id\": \"cmpl-70PlghVVSMPR2TRK4UTaRUmqZ69W8\",\n",
      "  \"model\": \"davinci:ft-greendynamics:custom-model-name-2023-04-01-06-53-54\",\n",
      "  \"object\": \"text_completion\",\n",
      "  \"usage\": {\n",
      "    \"completion_tokens\": 386,\n",
      "    \"prompt_tokens\": 26,\n",
      "    \"total_tokens\": 412\n",
      "  }\n",
      "}\n",
      "No.2\n",
      "{\n",
      "  \"choices\": [\n",
      "    {\n",
      "      \"finish_reason\": \"stop\",\n",
      "      \"index\": 0,\n",
      "      \"logprobs\": null,\n",
      "      \"text\": \" Substrate stack sequence: SLG | FTO,  ETL stack sequence: TiO2-c | TiO2-mp,  ETL additives compounds: TiCl4,  ETL_thickness: nan,  ETL deposition procedure: Spin-coating | Spin-coating >> Hydrothermal,  Perovskite_dimension_list_of_layers: nan,  Perovskite_composition_a_ions: nan,  Perovskite_composition_a_ions_coefficients: nan,  Perovskite_composition_b_ions: nan,  Perovskite_composition_b_ions_coefficients: nan,  Perovskite_composition_c_ions: nan,  Perovskite_composition_c_ions_coefficientsv: nan,  Perovskite additives compounds: Undoped,  Perovskite_additives_concentrations: nan,  Perovskite_band_gap: nan,  Perovskite deposition solvents: DMF; DMSO,  Perovskite deposition procedure: Spin-coating,  Perovskite deposition thermal annealing temperature: 100,  Perovskite deposition thermal annealing time: 60,  HTL stack sequence: Spiro-MeOTAD,  HTL_thickness_list: nan,  HTL additives compounds: Li-TFSI; TBP,  HTL deposition procedure: Spin-coating,  Backcontact stack sequence: Au,  Backcontact additives compounds: Undoped,  Backcontact deposition procedure: Evaporation,  Backcontact_thickness_list: nan,  Cell architecture: nip,  Cell semitransparent: FALSE\"\n",
      "    }\n",
      "  ],\n",
      "  \"created\": 1680333419,\n",
      "  \"id\": \"cmpl-70PlrwUSOa26tOo7vdl5eiR2TzgIT\",\n",
      "  \"model\": \"davinci:ft-greendynamics:custom-model-name-2023-04-01-06-53-54\",\n",
      "  \"object\": \"text_completion\",\n",
      "  \"usage\": {\n",
      "    \"completion_tokens\": 386,\n",
      "    \"prompt_tokens\": 26,\n",
      "    \"total_tokens\": 412\n",
      "  }\n",
      "}\n"
     ]
    }
   ],
   "source": [
    "# model1, use data with nans to train\n",
    "ft_model = \"davinci:ft-greendynamics:custom-model-name-2023-04-01-06-53-54\"\n",
    "\n",
    "test_text = pd.read_json('finetune_all_test_1000_prepared.jsonl', lines=True)\n",
    "for i in range(len(test_text)):\n",
    "    print(\"No.\" + str(i))\n",
    "    try:\n",
    "        prompt_text = test_text['prompt'][i]\n",
    "        answer_text = test_text['completion'][i].split(\"\\n\")[0].replace(\": ,\", \": '',\")\n",
    "        res = openai.Completion.create(model=ft_model, prompt=prompt_text, max_tokens=2000, temperature=0, stop=\"\\n\")\n",
    "        print(res)\n",
    "    except openai.InvalidRequestError as e1:\n",
    "        print(str(e1))\n",
    "        print(\"______________________________\")"
   ]
  },
  {
   "cell_type": "code",
   "execution_count": 157,
   "metadata": {},
   "outputs": [],
   "source": [
    "# model2, to test whether the model will give same answer for same input\n",
    "ft_model = \"davinci:ft-greendynamics:custom-model-name-2023-04-01-10-28-23\"\n",
    "prompt = \"Design a perovskite solar cell with 2500 power conversion efficiency under AM1.5 and 100 light intensity.\"\n",
    "li = []\n",
    "\n",
    "for i in range(20):\n",
    "    res = openai.Completion.create(model=ft_model, prompt=prompt, max_tokens=2000, temperature=0, stop=\"\\n\")\n",
    "    li.append({'prompt': prompt, 'output': res['choices'][0]['text']})\n",
    "print(len(set(li)))"
   ]
  },
  {
   "cell_type": "code",
   "execution_count": 150,
   "metadata": {},
   "outputs": [],
   "source": [
    "# store the result in a jsn file\n",
    "with open(\"2500res.json\", \"w\") as final:\n",
    "    json.dump(li, final)"
   ]
  },
  {
   "cell_type": "code",
   "execution_count": 155,
   "metadata": {},
   "outputs": [],
   "source": [
    "# store a result in csv file\n",
    "res = []\n",
    "for i in li:\n",
    "    cc = {}\n",
    "    cc['prompt'] = i['prompt']\n",
    "    out = i['output'].replace('->', '').split(',')\n",
    "    for j in out:\n",
    "        sep = j.split(': ')\n",
    "        cc[sep[0]] = sep[1]\n",
    "    res.append(cc)\n",
    "pd.DataFrame(res).to_csv('res2500.csv', index=False)"
   ]
  },
  {
   "cell_type": "markdown",
   "metadata": {},
   "source": [
    "## Visulization training loss"
   ]
  },
  {
   "cell_type": "code",
   "execution_count": 180,
   "metadata": {},
   "outputs": [],
   "source": [
    "loss = []\n",
    "with open('result.csv', newline='', encoding='utf-8') as csvfile:\n",
    "    reader = csv.reader(csvfile, delimiter=',', quotechar='|')\n",
    "    next(reader, None)\n",
    "    for row in reader:\n",
    "#         print(row)\n",
    "        try:\n",
    "            loss.append(row[3])\n",
    "        except:\n",
    "            break"
   ]
  },
  {
   "cell_type": "code",
   "execution_count": 111,
   "metadata": {},
   "outputs": [
    {
     "data": {
      "image/png": "[encoded data removed]",
      "text/plain": [
       "<Figure size 432x288 with 1 Axes>"
      ]
     },
     "metadata": {
      "needs_background": "light"
     },
     "output_type": "display_data"
    }
   ],
   "source": [
    "import matplotlib.pyplot as plt\n",
    "plt.plot([float(i) for i in loss])\n",
    "plt.xlabel('Iterations')\n",
    "plt.ylabel('Accuracy loss')\n",
    "plt.show()"
   ]
  },
  {
   "cell_type": "markdown",
   "metadata": {},
   "source": [
    "## Check if the output matches with any data in database"
   ]
  },
  {
   "cell_type": "code",
   "execution_count": 160,
   "metadata": {},
   "outputs": [],
   "source": [
    "# use data2 & model2\n",
    "ft_model = \"davinci:ft-greendynamics:custom-model-name-2023-04-01-10-28-23\"\n",
    "rows = []\n",
    "with open('finetune_all2.csv', newline='', encoding='utf-8') as csvfile:\n",
    "    reader = csv.reader(csvfile)\n",
    "    next(reader, None)\n",
    "    for row in reader:\n",
    "        rows.append(row)"
   ]
  },
  {
   "cell_type": "code",
   "execution_count": 177,
   "metadata": {},
   "outputs": [
    {
     "name": "stdout",
     "output_type": "stream",
     "text": [
      "The prompt is  Design a perovskite solar cell with 2500 power conversion efficiency under AM1.5 and 100 light intensity.\n",
      "There are 0 same results in Database\n",
      "The result is []\n",
      "\n"
     ]
    }
   ],
   "source": [
    "# change the prompt to update the output from model\n",
    "prompt = \"Design a perovskite solar cell with 2500 power conversion efficiency under AM1.5 and 100 light intensity.\"\n",
    "res = openai.Completion.create(model=ft_model, prompt=prompt, max_tokens=2000, temperature=0, stop=\"\\n\")\n",
    "text = res['choices'][0]['text'][4:]\n",
    "result = [i for i in rows if text in i[1]]\n",
    "print(\"The prompt is \", prompt)\n",
    "print(f\"There are {len(result)} same results in Database\")\n",
    "print(f\"The result is {result}\\n\")"
   ]
  },
  {
   "cell_type": "code",
   "execution_count": null,
   "metadata": {},
   "outputs": [],
   "source": []
  }
 ],
 "metadata": {
  "kernelspec": {
   "display_name": "Python 3",
   "language": "python",
   "name": "python3"
  },
  "language_info": {
   "codemirror_mode": {
    "name": "ipython",
    "version": 3
   },
   "file_extension": ".py",
   "mimetype": "text/x-python",
   "name": "python",
   "nbconvert_exporter": "python",
   "pygments_lexer": "ipython3",
   "version": "3.8.5"
  }
 },
 "nbformat": 4,
 "nbformat_minor": 4
}
